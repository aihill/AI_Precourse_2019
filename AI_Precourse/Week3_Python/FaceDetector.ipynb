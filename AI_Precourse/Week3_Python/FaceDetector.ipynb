{
 "cells": [
  {
   "cell_type": "code",
   "execution_count": 1,
   "metadata": {},
   "outputs": [
    {
     "data": {
      "text/plain": [
       "'3.4.1'"
      ]
     },
     "execution_count": 1,
     "metadata": {},
     "output_type": "execute_result"
    }
   ],
   "source": [
    "# Creating database \n",
    "# It captures images and stores them in datasets  \n",
    "# folder under the folder name of sub_data \n",
    "import cv2, sys, numpy, os \n",
    "haar_file = '../Week4_OpenCV\\huangshaocongs/haarcascade_frontalface_default.xml'\n",
    "  \n",
    "\n",
    "face_cascade = cv2.CascadeClassifier(haar_file) \n",
    "#eye_cascade = cv2.CascadeClassifier('haarcascade_eye.xml')\n",
    "\n",
    "cv2.__version__"
   ]
  },
  {
   "cell_type": "code",
   "execution_count": 6,
   "metadata": {},
   "outputs": [],
   "source": [
    "cap = cv2.VideoCapture(0)\n",
    "\n",
    "while(True):\n",
    "    # Capture frame-by-frame\n",
    "    ret, img = cap.read()\n",
    "\n",
    "    # Our operations on the frame come here\n",
    "    gray = cv2.cvtColor(img, cv2.COLOR_BGR2GRAY)\n",
    "\n",
    "    # Display the resulting frame\n",
    "    cv2.imshow('frame',gray)\n",
    "    faces = face_cascade.detectMultiScale(img, 1.3)\n",
    "    for (x,y,w,h) in faces:\n",
    "        img = cv2.rectangle(img,(x,y),(x+w,y+h),(255,0,0),2)\n",
    "        roi_gray = gray[y:y+h, x:x+w]\n",
    "        roi_color = img[y:y+h, x:x+w]\n",
    "#         eyes = eye_cascade.detectMultiScale(roi_gray)\n",
    "#         for (ex,ey,ew,eh) in eyes:\n",
    "#             cv2.rectangle(roi_color,(ex,ey),(ex+ew,ey+eh),(0,255,0),2)\n",
    "\n",
    "            \n",
    "    cv2.imshow('img',img)\n",
    "    if cv2.waitKey(1) & 0xFF == ord('q'):\n",
    "        break\n",
    "\n",
    "# When everything done, release the capture\n",
    "cap.release()\n",
    "cv2.destroyAllWindows()"
   ]
  },
  {
   "cell_type": "code",
   "execution_count": 6,
   "metadata": {
    "collapsed": true
   },
   "outputs": [],
   "source": [
    "frameSize = 24\n",
    "features = 5\n",
    "#All five feature types:\n",
    "feature = [[2,1], [1,2], [3,1], [1,3], [2,2]]"
   ]
  },
  {
   "cell_type": "code",
   "execution_count": 12,
   "metadata": {},
   "outputs": [
    {
     "name": "stdout",
     "output_type": "stream",
     "text": [
      "162336\n"
     ]
    }
   ],
   "source": [
    "count = 0;\n",
    "# Each feature:\n",
    "for i in range(features):\n",
    "    sizeX = feature[i][0]\n",
    "    sizeY = feature[i][1]\n",
    "    # Each position:\n",
    "    for x in range(frameSize-sizeX+1):\n",
    "        for y in range(frameSize-sizeY+1):\n",
    "            # Each size fitting within the frameSize:\n",
    "            for width in range(sizeX, frameSize-x+1, sizeX):\n",
    "                for height in range(sizeY, frameSize-y+1, sizeY):\n",
    "                    count += 1\n",
    "\n",
    "print(count)"
   ]
  },
  {
   "cell_type": "code",
   "execution_count": null,
   "metadata": {
    "collapsed": true
   },
   "outputs": [],
   "source": [
    "frameSize = 24\n",
    "features = 5\n",
    "#All five feature types:\n",
    "feature = [[2,1], [1,2], [3,1], [1,3], [2,2]]\n",
    "\n",
    "count = 0;\n",
    "# Each feature:\n",
    "for i in range(features):\n",
    "    sizeX = feature[i][0]\n",
    "    sizeY = feature[i][1]\n",
    "    # Each position:\n",
    "    for x in range(frameSize-sizeX+1):\n",
    "        for y in range(frameSize-sizeY+1):\n",
    "            # Each size fitting within the frameSize:\n",
    "            for width in range(sizeX, frameSize-sizeX+1, sizeX):\n",
    "                for height in range(sizeY, frameSize-sizeY+1, sizeY):\n",
    "                    count += 1\n",
    "\n",
    "print(count)"
   ]
  }
 ],
 "metadata": {
  "kernelspec": {
   "display_name": "Python 3",
   "language": "python",
   "name": "python3"
  },
  "language_info": {
   "codemirror_mode": {
    "name": "ipython",
    "version": 3
   },
   "file_extension": ".py",
   "mimetype": "text/x-python",
   "name": "python",
   "nbconvert_exporter": "python",
   "pygments_lexer": "ipython3",
   "version": "3.6.3"
  }
 },
 "nbformat": 4,
 "nbformat_minor": 2
}
