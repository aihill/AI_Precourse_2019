{
 "cells": [
  {
   "cell_type": "code",
   "execution_count": null,
   "metadata": {},
   "outputs": [],
   "source": [
    "import cv2\n",
    "filename = 'E:\\week4\\IMG_20170115_142147.jpg'\n",
    "\n",
    "def detect(filename):\n",
    "    face_cascade = cv2.CascadeClassifier('./cascades/haarcascade_frontalface_default.xml')   \n",
    "    img1 = cv2.imread(filename)\n",
    "    \n",
    "    img = cv2.resize(img1, (940,627), interpolation=cv2.INTER_CUBIC)\n",
    "    \n",
    "    gray = cv2.cvtColor(img,cv2.COLOR_BGR2GRAY)\n",
    "    faces = face_cascade.detectMultiScale(gray,1.3,5)\n",
    "    for (x,y,w,h) in faces:\n",
    "        img = cv2.rectangle(img,(x,y),(x+w,y+h),(0,0,255),2)\n",
    "    cv2.namedWindow('Detected')\n",
    "    cv2.imshow('Detected',img)\n",
    "    cv2.imwrite('./Detected1.jpg',img)\n",
    "    cv2.waitKey(0)\n",
    "detect(filename)"
   ]
  },
  {
   "cell_type": "code",
   "execution_count": null,
   "metadata": {},
   "outputs": [],
   "source": []
  }
 ],
 "metadata": {
  "kernelspec": {
   "display_name": "Python 3",
   "language": "python",
   "name": "python3"
  },
  "language_info": {
   "codemirror_mode": {
    "name": "ipython",
    "version": 3
   },
   "file_extension": ".py",
   "mimetype": "text/x-python",
   "name": "python",
   "nbconvert_exporter": "python",
   "pygments_lexer": "ipython3",
   "version": "3.6.5"
  }
 },
 "nbformat": 4,
 "nbformat_minor": 2
}
